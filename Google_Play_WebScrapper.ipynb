{
 "cells": [
  {
   "cell_type": "markdown",
   "metadata": {},
   "source": [
    "# Jayanth Adhitya\n",
    "Internship Assignment\n",
    "\n",
    "Contact  Information: \n",
    "\n",
    "Name : Jayanth Adhitya\n",
    "\n",
    "Email ID : jayanthadhitya@gmail.com \n",
    "\n",
    "Phone Number : +91-9843489333 \n",
    "\n",
    "Linkedin : www.linkedin.com/in/jayanthadhitya/"
   ]
  },
  {
   "cell_type": "code",
   "execution_count": 1,
   "metadata": {},
   "outputs": [
    {
     "name": "stdout",
     "output_type": "stream",
     "text": [
      "Collecting google-play-scraper\n",
      "  Obtaining dependency information for google-play-scraper from https://files.pythonhosted.org/packages/6e/8f/27f17ab4f1c0a2351bed104b7ea82e67271676a6d571ca3b753cc03b1b94/google_play_scraper-1.2.6-py3-none-any.whl.metadata\n",
      "  Downloading google_play_scraper-1.2.6-py3-none-any.whl.metadata (50 kB)\n",
      "     ---------------------------------------- 0.0/50.2 kB ? eta -:--:--\n",
      "     ---------------------------------------- 50.2/50.2 kB 2.5 MB/s eta 0:00:00\n",
      "Downloading google_play_scraper-1.2.6-py3-none-any.whl (28 kB)\n",
      "Installing collected packages: google-play-scraper\n",
      "Successfully installed google-play-scraper-1.2.6\n"
     ]
    },
    {
     "name": "stderr",
     "output_type": "stream",
     "text": [
      "DEPRECATION: textract 1.6.5 has a non-standard dependency specifier extract-msg<=0.29.*. pip 23.3 will enforce this behaviour change. A possible replacement is to upgrade to a newer version of textract or contact the author to suggest that they release a version with a conforming dependency specifiers. Discussion can be found at https://github.com/pypa/pip/issues/12063\n",
      "\n",
      "[notice] A new release of pip is available: 23.2.1 -> 24.0\n",
      "[notice] To update, run: python.exe -m pip install --upgrade pip\n"
     ]
    }
   ],
   "source": [
    "!pip install google-play-scraper\n",
    "!pip install requests"
   ]
  },
  {
   "cell_type": "code",
   "execution_count": 8,
   "metadata": {},
   "outputs": [
    {
     "name": "stdout",
     "output_type": "stream",
     "text": [
      "Name: Palm Reader : Palm Reading App\n",
      "Description: Palm Reading App gives you unique personalised 🤲 palm reading results. As well as app gives you personalised daily 🔮 horoscope,  explore your ♉ zodiac sign, find your hidden 🐱 spirit animal, check ♀ compatibility with your partner. Download App !!! To get a personalised 🎉 experience.✋ Palm Reader : Palmistry is the art of analysing the physical features of the hands to predict future happenings. Your hands are considered portals that shed invaluable insight. Our best palmistry experts just help you to understand the meaning of your hidden palm lines and gives you detailed report. 🙏🔮 Daily Horoscope : Horoscope is a forecast of a person's future, based on the relative positions of the stars and planets at the time of that person's birth. Here we provide you personalised daily, weekly and yearly horoscopes. 🦹🏼‍♂️👫 Compatibility : With right partner it’s like you are on vacation. Astrological compatibility is the branch of astrology that studies relationships by comparing natal horoscopes. Check how compatible you are with your partner. 🤷🏿🐯 Spirit Animal : Every one has a spirit animal which helps guide or protect a person on a journey and whose characteristics that person shares or embodies. What’s yours ?? Revel your hidden spirit animal. 🐛Try Palm Reading App Now and be amazed !!!Download Now !!!\n",
      "Rating: 4.5\n",
      "Reviewer 1: Aditi\n",
      "Review 1: They should have an option to update your relationship status and the option to add another profile. The app is amazing, gives you an idea of who you are, and is definitely accurate. Depends on the palmist who is giving the reading. You need to get multiple readings so that you can learn more information about yourself.\n",
      "Reviewer 2: Rajesh valmiki\n",
      "Review 2: 100% perfect, analysis and explanation and predictions of personality.Highly impressed and regarded for the same. I believe one has to realize himself rather then others. Self awakening suggestions and guidance is equally important. That gives right direction of life. Thanks a lot for giving accurate information. Amen.\n",
      "Data exported to app_data.csv\n"
     ]
    }
   ],
   "source": [
    "#Witout any predifined libraries. Manual Extraction\n",
    "\n",
    "import requests\n",
    "from bs4 import BeautifulSoup\n",
    "\n",
    "url = \"https://play.google.com/store/apps/details?id=com.whitestarinfotech.karma\"\n",
    "\n",
    "# Send a GET request to the URL\n",
    "response = requests.get(url)\n",
    "\n",
    "# Parse the HTML content\n",
    "soup = BeautifulSoup(response.text, \"html.parser\")\n",
    "\n",
    "# Extracting data\n",
    "name = soup.find(\"h1\", class_=\"Fd93Bb F5UCq p5VxAd\").text.strip()\n",
    "company_name = soup.find(\"span\").text.strip()   \n",
    "description = soup.find(\"div\", class_=\"bARER\").text.strip()\n",
    "rating = soup.find(\"div\", class_=\"jILTFe\").text.strip()\n",
    "\n",
    "# Extracting reviews\n",
    "reviewer1_name = soup.find_all(\"div\", class_=\"X5PpBb\")[0].text.strip()\n",
    "review1 = soup.find_all(\"div\", class_=\"h3YV2d\")[0].text.strip()\n",
    "\n",
    "reviewer2_name = soup.find_all(\"div\", class_=\"X5PpBb\")[1].text.strip()\n",
    "review2 = soup.find_all(\"div\", class_=\"h3YV2d\")[1].text.strip()\n",
    "\n",
    "# Print the extracted data\n",
    "print(\"Name:\", name)\n",
    "print(\"Description:\", description)\n",
    "print(\"Rating:\", rating)\n",
    "print(\"Reviewer 1:\", reviewer1_name)\n",
    "print(\"Review 1:\", review1)\n",
    "print(\"Reviewer 2:\", reviewer2_name)\n",
    "print(\"Review 2:\", review2)\n",
    "\n",
    "import csv\n",
    "\n",
    "# Open a file in write mode with UTF-8 encoding\n",
    "with open('app_data.csv', 'w', newline='', encoding='utf-8') as file:\n",
    "    # Create a CSV writer object\n",
    "    writer = csv.writer(file)\n",
    "    \n",
    "    # Write headers\n",
    "    writer.writerow(['Name','Description', 'Rating', 'Reviewer 1', 'Review 1', 'Reviewer 2', 'Review 2'])\n",
    "    \n",
    "    # Write data\n",
    "    writer.writerow([name,description, rating, reviewer1_name, review1, reviewer2_name, review2])\n",
    "\n",
    "print(\"Data exported to app_data.csv\")\n",
    "\n"
   ]
  },
  {
   "cell_type": "code",
   "execution_count": 14,
   "metadata": {},
   "outputs": [
    {
     "name": "stdout",
     "output_type": "stream",
     "text": [
      "{'title': 'Palm Reader : Palm Reading App', 'description': \"<b>Palm Reading App</b> gives you unique personalised 🤲 palm reading results. As well as app gives you personalised daily 🔮 horoscope,  explore your ♉ zodiac sign, find your hidden 🐱 spirit animal, check ♀ compatibility with your partner. Download App !!! To get a personalised 🎉 experience.\\r\\n\\r\\n\\r\\n✋ Palm Reader : Palmistry is the art of analysing the physical features of the hands to predict future happenings. Your hands are considered portals that shed invaluable insight. Our best palmistry experts just help you to understand the meaning of your hidden palm lines and gives you detailed report. 🙏\\r\\n\\r\\n🔮 Daily Horoscope : Horoscope is a forecast of a person's future, based on the relative positions of the stars and planets at the time of that person's birth. Here we provide you personalised daily, weekly and yearly horoscopes. 🦹🏼\\u200d♂️\\r\\n\\r\\n👫 Compatibility : With right partner it’s like you are on vacation. Astrological compatibility is\\xa0the branch of astrology that studies relationships by comparing natal horoscopes. Check how compatible you are with your partner. 🤷🏿\\r\\n\\r\\n🐯 Spirit Animal : Every one has a spirit animal which helps guide or protect a person on a journey and whose characteristics that person shares or embodies. What’s yours ?? Revel your hidden spirit animal. 🐛\\r\\n\\r\\nTry Palm Reading App Now and be amazed !!!\\r\\nDownload Now !!!\", 'descriptionHTML': '<b>Palm Reading App</b> gives you unique personalised 🤲 palm reading results. As well as app gives you personalised daily 🔮 horoscope,  explore your ♉ zodiac sign, find your hidden 🐱 spirit animal, check ♀ compatibility with your partner. Download App !!! To get a personalised 🎉 experience.<br><br><br>✋ Palm Reader : Palmistry is the art of analysing the physical features of the hands to predict future happenings. Your hands are considered portals that shed invaluable insight. Our best palmistry experts just help you to understand the meaning of your hidden palm lines and gives you detailed report. 🙏<br><br>🔮 Daily Horoscope : Horoscope is a forecast of a person&#39;s future, based on the relative positions of the stars and planets at the time of that person&#39;s birth. Here we provide you personalised daily, weekly and yearly horoscopes. 🦹🏼\\u200d♂️<br><br>👫 Compatibility : With right partner it’s like you are on vacation. Astrological compatibility is\\xa0the branch of astrology that studies relationships by comparing natal horoscopes. Check how compatible you are with your partner. 🤷🏿<br><br>🐯 Spirit Animal : Every one has a spirit animal which helps guide or protect a person on a journey and whose characteristics that person shares or embodies. What’s yours ?? Revel your hidden spirit animal. 🐛<br><br>Try Palm Reading App Now and be amazed !!!<br>Download Now !!!', 'summary': 'Get Live Palm Readings, Your Daily Horoscopes, Explore Astrology & more !', 'installs': '1,000,000+', 'minInstalls': 1000000, 'realInstalls': 1034973, 'score': 4.47, 'ratings': 12425, 'reviews': 283, 'histogram': [1238, 241, 113, 611, 10176], 'price': 0, 'free': True, 'currency': 'USD', 'sale': False, 'saleTime': None, 'originalPrice': None, 'saleText': None, 'offersIAP': True, 'inAppProductPrice': '$5.99 - $149.99 per item', 'developer': 'WhiteStar Info Technology', 'developerId': 'WhiteStar+Info+Technology', 'developerEmail': 'appdeveloper@whitestarinfotech.com', 'developerWebsite': 'https://whitestarinfotech.com/', 'developerAddress': 'Gaur Cascades, Raj Nagar Extension, Ghaziabad, Uttar Pradesh, India', 'privacyPolicy': 'https://whitestarinfotech.com/palmistry/privacy-policy', 'genre': 'Entertainment', 'genreId': 'ENTERTAINMENT', 'categories': [{'name': 'Entertainment', 'id': 'ENTERTAINMENT'}], 'icon': 'https://play-lh.googleusercontent.com/lbgwnKiBDc7iEtwTrlVofKLeTbJTNKJPKf9fdgyj84_vMoWU2qkU-AY9v4fgeIo0fA', 'headerImage': 'https://play-lh.googleusercontent.com/5EYfGzYfXbVOSLGiQQGRnmuPjo1PlT2hT7Ev1JU6FoniLUbXXGzZGIymKzKqSGdgpmX5', 'screenshots': ['https://play-lh.googleusercontent.com/Bwzrd1FY05JFlzmM265P_gfUTC2_qIsBH03-X4A_64e4pznGb0GoYgoAfv4KasR6_ZI', 'https://play-lh.googleusercontent.com/MEYTmxdmtx-PzG8JMK_45TfeMy7KNJ_YjGp_aB2izBMwadU_e3qUzgL3aLKFvvO2LA', 'https://play-lh.googleusercontent.com/r1VKS592JMRjtCLQyTvNzHJ4P_5CgvcXedv9mlFn3xS1_kEwb3kyMhSw8Eif0KkYcEA', 'https://play-lh.googleusercontent.com/-AMBO4dKmL3IqliTIjTUfHj_6Xl_L8o4CmufTgQiWdIgrco2kTUv4GT2I7xeJiuP5crv', 'https://play-lh.googleusercontent.com/G2-ZrXeeCC6uzfQFxe3hLs5m_nUO5qPuWKNewaljcTNUXZccfoq7nT3X9nD6J3F06T9W', 'https://play-lh.googleusercontent.com/ticbOOMzUeIeBDJYSWPzyPMxhjCHAX1wPqsYUL-1i0lB0P5B9dh0OCalyD_Lf8Ev8A', 'https://play-lh.googleusercontent.com/5tat2F1ak9ElfiJTLvJkSFX34pFDnP5-VzaBKQzpjzct4RxQP4kVaBtrvYOw_oV7kg', 'https://play-lh.googleusercontent.com/zhs-nPEHul4BKPIKTJTadOJmE28hH00Cno94SD104_Kz3KZHywFLBEx8mB9EkOvR2kk', 'https://play-lh.googleusercontent.com/LAQKVkTM4TCSQwaiRBPOADpKc567EotE1obIbb1KLMmP9m4scsnwHPJP7-PO0JyKN3hr'], 'video': None, 'videoImage': None, 'contentRating': 'Everyone', 'contentRatingDescription': None, 'adSupported': True, 'containsAds': True, 'released': 'May 20, 2022', 'lastUpdatedOn': 'Feb 7, 2024', 'updated': 1707320444, 'version': '1.18', 'comments': [], 'appId': 'com.whitestarinfotech.karma', 'url': 'https://play.google.com/store/apps/details?id=com.whitestarinfotech.karma&hl=en&gl=us'}\n"
     ]
    }
   ],
   "source": [
    "#Using Libraries\n",
    "\n",
    "from google_play_scraper import app\n",
    "\n",
    "result = app(\n",
    "    'com.whitestarinfotech.karma',\n",
    "    lang='en', # defaults to 'en'\n",
    "    country='us' # defaults to 'us'\n",
    ")\n",
    "\n",
    "print(result)"
   ]
  },
  {
   "cell_type": "code",
   "execution_count": null,
   "metadata": {},
   "outputs": [],
   "source": []
  }
 ],
 "metadata": {
  "kernelspec": {
   "display_name": "Python 3",
   "language": "python",
   "name": "python3"
  },
  "language_info": {
   "codemirror_mode": {
    "name": "ipython",
    "version": 3
   },
   "file_extension": ".py",
   "mimetype": "text/x-python",
   "name": "python",
   "nbconvert_exporter": "python",
   "pygments_lexer": "ipython3",
   "version": "3.10.9"
  }
 },
 "nbformat": 4,
 "nbformat_minor": 2
}
